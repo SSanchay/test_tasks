{
 "cells": [
  {
   "cell_type": "markdown",
   "id": "8ba17a9e-7b3f-42da-a4eb-d4d0458a4ce5",
   "metadata": {},
   "source": [
    "## Классификация отзывов клиентов банка на позитивные/негативные"
   ]
  },
  {
   "cell_type": "markdown",
   "id": "a1f5388a-7c81-436e-85d2-dfc751836dda",
   "metadata": {},
   "source": [
    "#### импортируем библиотеки и загружаем данные"
   ]
  },
  {
   "cell_type": "code",
   "execution_count": 1,
   "id": "91a34e50-6571-483a-8b23-c1793e50bdee",
   "metadata": {},
   "outputs": [],
   "source": [
    "import pandas as pd\n",
    "import numpy as np\n",
    "\n",
    "# natural language toolkit \n",
    "import nltk\n",
    "\n",
    "# regular expression\n",
    "import re\n",
    "import string\n",
    "\n",
    "from sklearn.feature_extraction.text import TfidfVectorizer, CountVectorizer\n",
    "\n",
    "\n",
    "from tqdm import tqdm"
   ]
  },
  {
   "cell_type": "code",
   "execution_count": 2,
   "id": "214372a7-181a-422c-b647-55d28d22eb42",
   "metadata": {},
   "outputs": [
    {
     "data": {
      "text/plain": [
       "(3950, 2)"
      ]
     },
     "execution_count": 2,
     "metadata": {},
     "output_type": "execute_result"
    }
   ],
   "source": [
    "path = 'train_tin.csv'\n",
    "df = pd.read_csv(path, encoding='cp1251')\n",
    "df.shape"
   ]
  },
  {
   "cell_type": "code",
   "execution_count": 5,
   "id": "8640dcd9-7729-48d6-a2e3-2a75fe202df1",
   "metadata": {},
   "outputs": [
    {
     "name": "stdout",
     "output_type": "stream",
     "text": [
      "<class 'pandas.core.frame.DataFrame'>\n",
      "RangeIndex: 3950 entries, 0 to 3949\n",
      "Data columns (total 2 columns):\n",
      " #   Column      Non-Null Count  Dtype \n",
      "---  ------      --------------  ----- \n",
      " 0   text        3950 non-null   object\n",
      " 1   isPositive  3950 non-null   int64 \n",
      "dtypes: int64(1), object(1)\n",
      "memory usage: 61.8+ KB\n"
     ]
    }
   ],
   "source": [
    "#тип колонок и количство nan\n",
    "df.info()"
   ]
  },
  {
   "cell_type": "code",
   "execution_count": 6,
   "id": "2cbf4bae-87c4-4586-a3d4-2fb0a3bcc203",
   "metadata": {},
   "outputs": [
    {
     "data": {
      "text/html": [
       "<div>\n",
       "<style scoped>\n",
       "    .dataframe tbody tr th:only-of-type {\n",
       "        vertical-align: middle;\n",
       "    }\n",
       "\n",
       "    .dataframe tbody tr th {\n",
       "        vertical-align: top;\n",
       "    }\n",
       "\n",
       "    .dataframe thead th {\n",
       "        text-align: right;\n",
       "    }\n",
       "</style>\n",
       "<table border=\"1\" class=\"dataframe\">\n",
       "  <thead>\n",
       "    <tr style=\"text-align: right;\">\n",
       "      <th></th>\n",
       "      <th>text</th>\n",
       "      <th>isPositive</th>\n",
       "    </tr>\n",
       "  </thead>\n",
       "  <tbody>\n",
       "    <tr>\n",
       "      <th>0</th>\n",
       "      <td>27.09.19 через сайт в разделе \"Рефинансировани...</td>\n",
       "      <td>0</td>\n",
       "    </tr>\n",
       "    <tr>\n",
       "      <th>1</th>\n",
       "      <td>Добрый день! Неоднократно поступают звонки по ...</td>\n",
       "      <td>0</td>\n",
       "    </tr>\n",
       "    <tr>\n",
       "      <th>2</th>\n",
       "      <td>В первый раз решила воспользоваться кредитной ...</td>\n",
       "      <td>0</td>\n",
       "    </tr>\n",
       "    <tr>\n",
       "      <th>3</th>\n",
       "      <td>На самом дело уже накипело из-за участившегося...</td>\n",
       "      <td>0</td>\n",
       "    </tr>\n",
       "    <tr>\n",
       "      <th>4</th>\n",
       "      <td>Если вы дорожите своими нервами - ни при каких...</td>\n",
       "      <td>0</td>\n",
       "    </tr>\n",
       "  </tbody>\n",
       "</table>\n",
       "</div>"
      ],
      "text/plain": [
       "                                                text  isPositive\n",
       "0  27.09.19 через сайт в разделе \"Рефинансировани...           0\n",
       "1  Добрый день! Неоднократно поступают звонки по ...           0\n",
       "2  В первый раз решила воспользоваться кредитной ...           0\n",
       "3  На самом дело уже накипело из-за участившегося...           0\n",
       "4  Если вы дорожите своими нервами - ни при каких...           0"
      ]
     },
     "execution_count": 6,
     "metadata": {},
     "output_type": "execute_result"
    }
   ],
   "source": [
    "df.head()"
   ]
  },
  {
   "cell_type": "code",
   "execution_count": 7,
   "id": "8626fc1c-798d-48dd-b971-2960cd05a2f5",
   "metadata": {},
   "outputs": [],
   "source": [
    "#добавили новые признаки\n",
    "df['number_words'] = df['text'].transform(lambda x: len(x.split()))"
   ]
  },
  {
   "cell_type": "code",
   "execution_count": 8,
   "id": "6fd3fd46-2d65-470f-bdc7-6ca2b429a84c",
   "metadata": {},
   "outputs": [
    {
     "data": {
      "text/plain": [
       "'Если вы дорожите своими нервами - ни при каких обстоятельствах не имейте дел с кредитными продуктами этого банка!В Тинькофф-банке у меня была оформлена кредитная карта и потребительский кредит. Кредит я оформила в августе, по графику платежей я\\xa0должна была вносить по нему 4820 руб. 7-го числа каждого месяца, начиная с\\xa0сентября.Кредитной картой год не пользовалась вообще, в июле этого года сняла с нее 20 000 тыс. 1 августа полностью погасила всю сумму\\xa0задолженности, которую на тот момент видела в своем интернет-банке\\xa0(долг+проценты) и была полностью уверена, что по кредитке я больше ничего не\\xa0должна.\\xa026 сентября мне поступает первое за все время смс-сообщение банка, что у меня просрочен платеж по кредитной карте на сумму 143 руб. и будет\\xa0начислен штраф. Я ни разу в жизни не допускала просрочек по кредитам, и,\\xa0конечно, была в шоке. Звоню в банк и выясняю, что уже после внесения мной\\xa0платежа проценты по кредитке были доначислены.\\xa0Никаких оповещений я об\\xa0этом не получала - равно как и никаких предварительных напоминаний о\\xa0необходимости погашения, которые отправляют своим клиентам все нормальные\\xa0банки.По утверждению сотрудников банка мне приходили пуш-уведомления. Я проверила список пуш-уведомлений в своем интернет-банке - ни\\xa0единого уведомления там не зафиксировано.Я в тот же день погасила эту сумму и закрыла кредитную карту. Однако на этом дело не закончилось.29 сентября мне звонит от сотрудник отдела взысканий, который в ультимативной форме сообщает мне, что у меня просрочен платеж по\\xa0потребительскому кредиту, начислен штраф, и я обязана сегодня же внести в банк\\xa05224 руб. Я, опять же, в шоке, так как предыдущий платеж по этому кредиту в\\xa0размере 4820 руб. внесла 5 сентября, и абсолютно уверена, что никаких\\xa0просроченных задолженностей у меня нет. Ничего внятного по поводу того, каким образому меня опять образовалась какая-то просроченная задолженность, позвонивший мне\\xa0сотрудник не сообщил.Вернувшись домой, я подняла документы и убедилась, что\\xa0 дата следующего платежа у меня действительно 7\\xa0октября.\\xa0 Эта же информация была в моем интернет-банке.\\xa0Я позвонила в контакт-центр банка. Сотрудники долго разбирались, в конце концов мне сказали,\\xa0что меня \"неправильно проконсультировали\" (это так мягко они назвали\\xa0наезд их сотрудника отдела взыскания). Также они объяснили, что по договору о\\xa0комплексном обслуживании в случае, если допускается просрочка по одному изкредитных продуктов, очередной платеж по остальным продуктам мне\\xa0\"рекомендуется\" вносить заранее. Так что я должна внести сегодня\\xa0сумму очередного платежа по моему кредиту в размере 4820 руб., а информация о\\xa0начисленном мне штрафе была ошибочной.Ок, деньги я внесла, хотя это и было крайне неудобно - ведь я рассчитывала внести эту сумму на неделю позднее. Когда я внесла на счет\\xa0обслуживания кредитной карты указанную сумму, мне приходит смс, что я должна\\xa0банку еще 404 руб. Я опять звоню в банк, и требую выслать мне официальныйдокумент с печатью, что на сегодняшний день у меня никаких просроченных\\xa0задолженностей в этом банке нет.\\xa0В итоге половина выходного дня потрачена на разборки с сотрудниками банка, настроение безнадежно испорчено и нервы на пределе. При\\xa0этом лично у меня возникло впечатление, что банк намеренно спровоцировалвозникновение этой просрочки по кредитке для того, чтобы платежи по\\xa0потребительскому кредиту с меня раньше срока требовать.\\xa0За 20 лет активного пользования кредитными продуктами разных банков в такую отвратительную ситуациюпопадаю впервые. Разумеется, больше никаких дел я с этим банком иметь не буду -\\xa0и никому не советую!'"
      ]
     },
     "execution_count": 8,
     "metadata": {},
     "output_type": "execute_result"
    }
   ],
   "source": [
    "df.iloc[4, 0]"
   ]
  },
  {
   "cell_type": "code",
   "execution_count": 9,
   "id": "58acecda-da91-475f-ae07-08920d182033",
   "metadata": {},
   "outputs": [
    {
     "data": {
      "text/plain": [
       "0    1975\n",
       "1    1975\n",
       "Name: isPositive, dtype: int64"
      ]
     },
     "execution_count": 9,
     "metadata": {},
     "output_type": "execute_result"
    }
   ],
   "source": [
    "#баланс классов\n",
    "df['isPositive'].value_counts()"
   ]
  },
  {
   "cell_type": "code",
   "execution_count": 10,
   "id": "159e330e-0d0e-4876-8468-10f57e737a19",
   "metadata": {},
   "outputs": [
    {
     "data": {
      "text/plain": [
       "<AxesSubplot:>"
      ]
     },
     "execution_count": 10,
     "metadata": {},
     "output_type": "execute_result"
    },
    {
     "data": {
      "image/png": "[encoded data removed]",
      "text/plain": [
       "<Figure size 640x480 with 1 Axes>"
      ]
     },
     "metadata": {},
     "output_type": "display_data"
    }
   ],
   "source": [
    "#количество слов\n",
    "df['number_words'].hist(bins=100)"
   ]
  },
  {
   "cell_type": "code",
   "execution_count": 11,
   "id": "d49c7986-8426-4a08-8a49-a6947214e7ec",
   "metadata": {},
   "outputs": [
    {
     "data": {
      "text/html": [
       "<div>\n",
       "<style scoped>\n",
       "    .dataframe tbody tr th:only-of-type {\n",
       "        vertical-align: middle;\n",
       "    }\n",
       "\n",
       "    .dataframe tbody tr th {\n",
       "        vertical-align: top;\n",
       "    }\n",
       "\n",
       "    .dataframe thead th {\n",
       "        text-align: right;\n",
       "    }\n",
       "</style>\n",
       "<table border=\"1\" class=\"dataframe\">\n",
       "  <thead>\n",
       "    <tr style=\"text-align: right;\">\n",
       "      <th></th>\n",
       "      <th>count</th>\n",
       "      <th>mean</th>\n",
       "      <th>std</th>\n",
       "      <th>min</th>\n",
       "      <th>25%</th>\n",
       "      <th>50%</th>\n",
       "      <th>75%</th>\n",
       "      <th>max</th>\n",
       "    </tr>\n",
       "  </thead>\n",
       "  <tbody>\n",
       "    <tr>\n",
       "      <th>isPositive</th>\n",
       "      <td>3950.0</td>\n",
       "      <td>0.0</td>\n",
       "      <td>1.0</td>\n",
       "      <td>0.0</td>\n",
       "      <td>0.0</td>\n",
       "      <td>0.0</td>\n",
       "      <td>1.0</td>\n",
       "      <td>1.0</td>\n",
       "    </tr>\n",
       "    <tr>\n",
       "      <th>number_words</th>\n",
       "      <td>3950.0</td>\n",
       "      <td>156.0</td>\n",
       "      <td>136.0</td>\n",
       "      <td>6.0</td>\n",
       "      <td>63.0</td>\n",
       "      <td>110.0</td>\n",
       "      <td>198.0</td>\n",
       "      <td>1287.0</td>\n",
       "    </tr>\n",
       "  </tbody>\n",
       "</table>\n",
       "</div>"
      ],
      "text/plain": [
       "               count   mean    std  min   25%    50%    75%     max\n",
       "isPositive    3950.0    0.0    1.0  0.0   0.0    0.0    1.0     1.0\n",
       "number_words  3950.0  156.0  136.0  6.0  63.0  110.0  198.0  1287.0"
      ]
     },
     "execution_count": 11,
     "metadata": {},
     "output_type": "execute_result"
    }
   ],
   "source": [
    "df.describe().round().T"
   ]
  },
  {
   "cell_type": "code",
   "execution_count": 12,
   "id": "2b1e6fcb-a0d1-47fa-804d-ee88520fe8d0",
   "metadata": {},
   "outputs": [
    {
     "name": "stdout",
     "output_type": "stream",
     "text": [
      "Requirement already satisfied: pymorphy2 in /home/sanchay/miniforge3/lib/python3.9/site-packages (0.9.1)\n",
      "Requirement already satisfied: pymorphy2-dicts-ru<3.0,>=2.4 in /home/sanchay/miniforge3/lib/python3.9/site-packages (from pymorphy2) (2.4.417127.4579844)\n",
      "Requirement already satisfied: dawg-python>=0.7.1 in /home/sanchay/miniforge3/lib/python3.9/site-packages (from pymorphy2) (0.7.2)\n",
      "Requirement already satisfied: docopt>=0.6 in /home/sanchay/miniforge3/lib/python3.9/site-packages (from pymorphy2) (0.6.2)\n"
     ]
    }
   ],
   "source": [
    "!pip install pymorphy2\n",
    "import pymorphy2"
   ]
  },
  {
   "cell_type": "code",
   "execution_count": 13,
   "id": "c9640413-0498-4ca0-a4b9-4961c0355c73",
   "metadata": {},
   "outputs": [],
   "source": [
    "from nltk.corpus import stopwords\n",
    "from nltk.stem import WordNetLemmatizer  \n",
    "from nltk.tokenize import RegexpTokenizer"
   ]
  },
  {
   "cell_type": "code",
   "execution_count": 14,
   "id": "2a448d97-5d3b-43b6-85ff-6feef04156b4",
   "metadata": {},
   "outputs": [],
   "source": [
    "def clean(text):\n",
    "    text = text.lower() #нижний регистр\n",
    "    text = re.sub('<.*?>', '', text) # Remove HTML from text\n",
    "    text = re.sub('\\xa0', ' ', text)\n",
    "    text = text.translate(str.maketrans('', '', string.punctuation)) # удаляем знаки препинания\n",
    "    text = re.sub(r'\\d+', ' ', text) # удаляем числа\n",
    "    \n",
    "    return text"
   ]
  },
  {
   "cell_type": "code",
   "execution_count": 15,
   "id": "fbd91406-f63c-42f2-bb28-620c58059434",
   "metadata": {},
   "outputs": [
    {
     "data": {
      "text/plain": [
       "'если вы дорожите своими нервами  ни при каких обстоятельствах не имейте дел с кредитными продуктами этого банкав тинькоффбанке у меня была оформлена кредитная карта и потребительский кредит кредит я оформила в августе по графику платежей я должна была вносить по нему   руб  го числа каждого месяца начиная с сентябрякредитной картой год не пользовалась вообще в июле этого года сняла с нее     тыс   августа полностью погасила всю сумму задолженности которую на тот момент видела в своем интернетбанке долгпроценты и была полностью уверена что по кредитке я больше ничего не должна   сентября мне поступает первое за все время смссообщение банка что у меня просрочен платеж по кредитной карте на сумму   руб и будет начислен штраф я ни разу в жизни не допускала просрочек по кредитам и конечно была в шоке звоню в банк и выясняю что уже после внесения мной платежа проценты по кредитке были доначислены никаких оповещений я об этом не получала  равно как и никаких предварительных напоминаний о необходимости погашения которые отправляют своим клиентам все нормальные банкипо утверждению сотрудников банка мне приходили пушуведомления я проверила список пушуведомлений в своем интернетбанке  ни единого уведомления там не зафиксированоя в тот же день погасила эту сумму и закрыла кредитную карту однако на этом дело не закончилось  сентября мне звонит от сотрудник отдела взысканий который в ультимативной форме сообщает мне что у меня просрочен платеж по потребительскому кредиту начислен штраф и я обязана сегодня же внести в банк   руб я опять же в шоке так как предыдущий платеж по этому кредиту в размере   руб внесла   сентября и абсолютно уверена что никаких просроченных задолженностей у меня нет ничего внятного по поводу того каким образому меня опять образовалась какаято просроченная задолженность позвонивший мне сотрудник не сообщилвернувшись домой я подняла документы и убедилась что  дата следующего платежа у меня действительно   октября  эта же информация была в моем интернетбанке я позвонила в контактцентр банка сотрудники долго разбирались в конце концов мне сказали что меня неправильно проконсультировали это так мягко они назвали наезд их сотрудника отдела взыскания также они объяснили что по договору о комплексном обслуживании в случае если допускается просрочка по одному изкредитных продуктов очередной платеж по остальным продуктам мне рекомендуется вносить заранее так что я должна внести сегодня сумму очередного платежа по моему кредиту в размере   руб а информация о начисленном мне штрафе была ошибочнойок деньги я внесла хотя это и было крайне неудобно  ведь я рассчитывала внести эту сумму на неделю позднее когда я внесла на счет обслуживания кредитной карты указанную сумму мне приходит смс что я должна банку еще   руб я опять звоню в банк и требую выслать мне официальныйдокумент с печатью что на сегодняшний день у меня никаких просроченных задолженностей в этом банке нет в итоге половина выходного дня потрачена на разборки с сотрудниками банка настроение безнадежно испорчено и нервы на пределе при этом лично у меня возникло впечатление что банк намеренно спровоцировалвозникновение этой просрочки по кредитке для того чтобы платежи по потребительскому кредиту с меня раньше срока требовать за   лет активного пользования кредитными продуктами разных банков в такую отвратительную ситуациюпопадаю впервые разумеется больше никаких дел я с этим банком иметь не буду  и никому не советую'"
      ]
     },
     "execution_count": 15,
     "metadata": {},
     "output_type": "execute_result"
    }
   ],
   "source": [
    "clean(df.iloc[4, 0])"
   ]
  },
  {
   "cell_type": "code",
   "execution_count": 16,
   "id": "fd9df73e-787a-4e8e-adc4-8135092a3c5b",
   "metadata": {},
   "outputs": [],
   "source": [
    "text = df.iloc[:, 0]"
   ]
  },
  {
   "cell_type": "code",
   "execution_count": 17,
   "id": "305178b1-37db-4c97-b3bc-9614a4d1fbfb",
   "metadata": {},
   "outputs": [
    {
     "data": {
      "text/plain": [
       "0       через сайт в разделе рефинансирование сторон...\n",
       "1     добрый день неоднократно поступают звонки по д...\n",
       "2     в первый раз решила воспользоваться кредитной ...\n",
       "3     на самом дело уже накипело изза участившегося ...\n",
       "4     если вы дорожите своими нервами  ни при каких ...\n",
       "5     банк знаю давно очень и мне он не нравиться но...\n",
       "6     тинькофф всегда нравился ваш банк но последний...\n",
       "7       сентября   года после принудительного снятия...\n",
       "8     несколько месяцев не могут убрать рекламу из м...\n",
       "9     являюсь клиентом банка тинькофф по дебетовым п...\n",
       "10    заблокировали карту когда находился за границе...\n",
       "11    на столько заврались сначала говорят одну инфо...\n",
       "12    была кредитка  платил уезжая на вахту положил ...\n",
       "13    я являюсь клиентом ткс банка более   лет в осн...\n",
       "14      я хотел оплатил долговую квитанцию по жкх че...\n",
       "Name: text, dtype: object"
      ]
     },
     "execution_count": 17,
     "metadata": {},
     "output_type": "execute_result"
    }
   ],
   "source": [
    "# Начинаем делать предварительную обработку текста\n",
    "\n",
    "text = text.apply(clean)\n",
    "text.head(15)"
   ]
  },
  {
   "cell_type": "code",
   "execution_count": 18,
   "id": "dd4d8d91-cb42-42cd-a2ba-9a3d853addf3",
   "metadata": {},
   "outputs": [],
   "source": [
    "# create lemmatizer object\n",
    "\n",
    "pymorph = pymorphy2.MorphAnalyzer()"
   ]
  },
  {
   "cell_type": "code",
   "execution_count": 19,
   "id": "369e6400-ec1f-4cb5-8a80-2f2f76d45eb1",
   "metadata": {},
   "outputs": [
    {
     "data": {
      "text/plain": [
       "'раздел'"
      ]
     },
     "execution_count": 19,
     "metadata": {},
     "output_type": "execute_result"
    }
   ],
   "source": [
    "pymorph.parse(text[0].split()[3])[0].normal_form"
   ]
  },
  {
   "cell_type": "code",
   "execution_count": 20,
   "id": "30f2bb92-56a1-4802-b9df-7affa902a147",
   "metadata": {},
   "outputs": [],
   "source": [
    "# Применяем лемматизацию ко всем отзывам\n",
    "\n",
    "lemmatized_text = []\n",
    "for review in text:\n",
    "    lemmatized_text.append(' '.join([pymorph.parse(word)[0].normal_form for word in review.split()]))"
   ]
  },
  {
   "cell_type": "code",
   "execution_count": 21,
   "id": "0a873be8-1495-4cdd-8297-688bca93c8e6",
   "metadata": {},
   "outputs": [],
   "source": [
    "# Применяем токенизацию\n",
    "\n",
    "reg_tokenizer = RegexpTokenizer('\\w+')"
   ]
  },
  {
   "cell_type": "code",
   "execution_count": 22,
   "id": "94616581-147d-4993-960d-8f635ef2c0f1",
   "metadata": {},
   "outputs": [],
   "source": [
    "tokenized_text = reg_tokenizer.tokenize_sents(lemmatized_text)"
   ]
  },
  {
   "cell_type": "code",
   "execution_count": 23,
   "id": "8916268b-00c1-4d3d-abc2-00abb9aa106f",
   "metadata": {},
   "outputs": [],
   "source": [
    "sw = stopwords.words('russian')"
   ]
  },
  {
   "cell_type": "code",
   "execution_count": 24,
   "id": "42471216-2472-424b-bd09-e270b7861b2f",
   "metadata": {},
   "outputs": [
    {
     "name": "stderr",
     "output_type": "stream",
     "text": [
      "100%|█████████████████████████████████████| 3950/3950 [00:00<00:00, 4703.18it/s]\n"
     ]
    }
   ],
   "source": [
    "# удаляем стоп-слова\n",
    "clean_tokenized_text = [] \n",
    "\n",
    "for i, review in tqdm(enumerate(tokenized_text), total=len(tokenized_text)):\n",
    "    clean_tokenized_text.append(' '.join([word for word in review if word not in sw]))"
   ]
  },
  {
   "cell_type": "code",
   "execution_count": 25,
   "id": "2a81a3ad-314e-4fd6-a99c-9feef6cc6de2",
   "metadata": {},
   "outputs": [
    {
     "data": {
      "text/plain": [
       "(2361, 2870)"
      ]
     },
     "execution_count": 25,
     "metadata": {},
     "output_type": "execute_result"
    }
   ],
   "source": [
    "len(clean_tokenized_text[0]), len(lemmatized_text[0])"
   ]
  },
  {
   "cell_type": "code",
   "execution_count": 26,
   "id": "2b2c666a-3470-45a5-accd-03bf623ce11b",
   "metadata": {},
   "outputs": [
    {
     "data": {
      "text/plain": [
       "'первый решить воспользоваться кредитный карта тинькофф банк карта лежать дом активировать сентябрь сделать покупка примерно посчитать льготный период день выходить начало ноябрь однако сегодня зайти мобильный приложение увидеть называть льготный период истекать октябрь это пол месяц маленький рассчитывать позвонить горячий линия пояснить выписка формироваться число каждый месяц формироваться число карта активный пользоваться её получение ваш сотрудник пояснить период начинать идти момент первый покупка активировать карта мошенник вводить заблуждение человек обманывать вычесть деньга страховка смс информирование хотя услуга выдача карта упоминаться это предупреждать также получить смс списание пополнение счёт получаться содрать деньга вернуть обратно счёт либо писать далёкий всё возможный инстанция вводить человек заблуждение простой говорить ваш банк мошенник ужасный банк человек вестись кредит карта тп ужасный обслуживание информирование дурить человек полный программа'"
      ]
     },
     "execution_count": 26,
     "metadata": {},
     "output_type": "execute_result"
    }
   ],
   "source": [
    "clean_tokenized_text[2]"
   ]
  },
  {
   "cell_type": "code",
   "execution_count": 28,
   "id": "a72b2545-5f09-40a8-a72c-4aebe8b518c2",
   "metadata": {},
   "outputs": [
    {
     "data": {
      "text/html": [
       "<div>\n",
       "<style scoped>\n",
       "    .dataframe tbody tr th:only-of-type {\n",
       "        vertical-align: middle;\n",
       "    }\n",
       "\n",
       "    .dataframe tbody tr th {\n",
       "        vertical-align: top;\n",
       "    }\n",
       "\n",
       "    .dataframe thead th {\n",
       "        text-align: right;\n",
       "    }\n",
       "</style>\n",
       "<table border=\"1\" class=\"dataframe\">\n",
       "  <thead>\n",
       "    <tr style=\"text-align: right;\">\n",
       "      <th></th>\n",
       "      <th>text</th>\n",
       "      <th>sentiment</th>\n",
       "    </tr>\n",
       "  </thead>\n",
       "  <tbody>\n",
       "    <tr>\n",
       "      <th>0</th>\n",
       "      <td>сайт раздел рефинансирование сторонний кредит ...</td>\n",
       "      <td>0</td>\n",
       "    </tr>\n",
       "    <tr>\n",
       "      <th>1</th>\n",
       "      <td>добрый день неоднократно поступать звонок долж...</td>\n",
       "      <td>0</td>\n",
       "    </tr>\n",
       "    <tr>\n",
       "      <th>2</th>\n",
       "      <td>первый решить воспользоваться кредитный карта ...</td>\n",
       "      <td>0</td>\n",
       "    </tr>\n",
       "    <tr>\n",
       "      <th>3</th>\n",
       "      <td>дело накипеть изз участиться намахалов сторона...</td>\n",
       "      <td>0</td>\n",
       "    </tr>\n",
       "    <tr>\n",
       "      <th>4</th>\n",
       "      <td>дорожить свой нерв обстоятельство иметь дело к...</td>\n",
       "      <td>0</td>\n",
       "    </tr>\n",
       "  </tbody>\n",
       "</table>\n",
       "</div>"
      ],
      "text/plain": [
       "                                                text  sentiment\n",
       "0  сайт раздел рефинансирование сторонний кредит ...          0\n",
       "1  добрый день неоднократно поступать звонок долж...          0\n",
       "2  первый решить воспользоваться кредитный карта ...          0\n",
       "3  дело накипеть изз участиться намахалов сторона...          0\n",
       "4  дорожить свой нерв обстоятельство иметь дело к...          0"
      ]
     },
     "execution_count": 28,
     "metadata": {},
     "output_type": "execute_result"
    }
   ],
   "source": [
    "df = pd.concat([pd.Series(clean_tokenized_text, name='text'), \n",
    "                pd.Series(df['isPositive'], name='sentiment')], \n",
    "               axis=1)\n",
    "df.head()"
   ]
  },
  {
   "cell_type": "markdown",
   "id": "4f014803-09a5-4b88-a2ba-cf3ad8f57c8c",
   "metadata": {},
   "source": [
    "#### Построим векторное представление слов и обучим модели"
   ]
  },
  {
   "cell_type": "code",
   "execution_count": 29,
   "id": "706ccd0e-9183-4c8e-a537-7cfd245fb529",
   "metadata": {},
   "outputs": [],
   "source": [
    "# import classifiers\n",
    "\n",
    "from sklearn.ensemble import RandomForestClassifier\n",
    "from sklearn.linear_model import LogisticRegression\n",
    "from sklearn.svm import SVC\n",
    "from sklearn.naive_bayes import MultinomialNB\n",
    "from catboost import CatBoostClassifier\n",
    "\n",
    "from sklearn.model_selection import cross_val_score\n",
    "from sklearn.decomposition import TruncatedSVD"
   ]
  },
  {
   "cell_type": "code",
   "execution_count": 30,
   "id": "9ebe1103-6f3f-4b7b-af46-1ea0405ee1ca",
   "metadata": {},
   "outputs": [],
   "source": [
    "# Создаем объекты для векторного представления Bag-of-Words, tf-idf\n",
    "cvec = CountVectorizer(ngram_range=(1, 1))\n",
    "tfid = TfidfVectorizer(ngram_range=(1, 1))\n",
    "\n",
    "tsvd = TruncatedSVD(100)"
   ]
  },
  {
   "cell_type": "code",
   "execution_count": 31,
   "id": "4658a2c5-85fb-4a13-b663-b49e6447c9ca",
   "metadata": {},
   "outputs": [],
   "source": [
    "rf = RandomForestClassifier(20)\n",
    "lrc = LogisticRegression(max_iter=10000)\n",
    "multinb = MultinomialNB()\n",
    "catb = CatBoostClassifier(verbose=0)"
   ]
  },
  {
   "cell_type": "code",
   "execution_count": 32,
   "id": "ec6d0866-eca8-4624-aaca-5628bfed7d63",
   "metadata": {},
   "outputs": [],
   "source": [
    "clfs = {\n",
    "    'RandomForest' : rf ,\n",
    "    'LogisticRegression' : lrc,\n",
    "    'MultinominalNaiveBayes': multinb,\n",
    "    'CatBoostClassifier': catb\n",
    "}"
   ]
  },
  {
   "cell_type": "code",
   "execution_count": 33,
   "id": "d8cb00ca-b54e-43d4-9685-e6f7bcb4e07c",
   "metadata": {},
   "outputs": [],
   "source": [
    "#Функция сравнивающая модели и способы векторизации текста\n",
    "\n",
    "def get_scores(clfs, x, y, n_cv=3):\n",
    "    results={}\n",
    "    \n",
    "    cvec_representation = cvec.fit_transform(x)\n",
    "    tfid_representation = tfid.fit_transform(x)\n",
    "    red_tf = tsvd.fit_transform(tfid_representation)\n",
    "    \n",
    "    for clf in tqdm(clfs):\n",
    "        if clf == 'MultinominalNaiveBayes':\n",
    "            tsvd_scores = cross_val_score(clfs[clf], red_tf + np.abs(np.min(red_tf)) + 1,  y, n_jobs=4, cv=n_cv, scoring='accuracy')\n",
    "        else:\n",
    "            tsvd_scores = cross_val_score(clfs[clf], red_tf,  y, n_jobs=4, cv=n_cv, scoring='accuracy')\n",
    "\n",
    "            \n",
    "        cvec_scores = cross_val_score(clfs[clf], cvec_representation, y, n_jobs=-1, cv=n_cv, scoring='accuracy')\n",
    "        tfidf_scores = cross_val_score(clfs[clf], tfid_representation,  y, n_jobs=-1, cv=n_cv, scoring='accuracy')\n",
    "        \n",
    "        cvec_mean_score, cvec_std_score = np.mean(cvec_scores), np.std(cvec_scores)\n",
    "        tfidf_mean_score, tfidf_std_score = np.mean(tfidf_scores), np.std(tfidf_scores)\n",
    "        tsvd_mean_score, tsvd_std_score = np.mean(tsvd_scores), np.std(tsvd_scores)\n",
    "        \n",
    "        results.update({clf : [cvec_mean_score,  \n",
    "                               tfidf_mean_score,\n",
    "                               tsvd_mean_score]})\n",
    "    \n",
    "    return results\n",
    "        "
   ]
  },
  {
   "cell_type": "code",
   "execution_count": 34,
   "id": "bdc9c305-9244-40b1-92c7-6eb2ddfdbfe2",
   "metadata": {},
   "outputs": [
    {
     "name": "stderr",
     "output_type": "stream",
     "text": [
      "100%|█████████████████████████████████████████████| 4/4 [03:25<00:00, 51.32s/it]\n"
     ]
    }
   ],
   "source": [
    "results = pd.DataFrame(get_scores(clfs, df['text'], df['sentiment'], 2), index=['BagOfWords', 'TfIdf', 'SVD']).T.reset_index()"
   ]
  },
  {
   "cell_type": "code",
   "execution_count": 35,
   "id": "bbdc255e-c5c2-4a47-b63b-661be4ca24e8",
   "metadata": {},
   "outputs": [
    {
     "data": {
      "text/html": [
       "<div>\n",
       "<style scoped>\n",
       "    .dataframe tbody tr th:only-of-type {\n",
       "        vertical-align: middle;\n",
       "    }\n",
       "\n",
       "    .dataframe tbody tr th {\n",
       "        vertical-align: top;\n",
       "    }\n",
       "\n",
       "    .dataframe thead th {\n",
       "        text-align: right;\n",
       "    }\n",
       "</style>\n",
       "<table border=\"1\" class=\"dataframe\">\n",
       "  <thead>\n",
       "    <tr style=\"text-align: right;\">\n",
       "      <th></th>\n",
       "      <th>index</th>\n",
       "      <th>BagOfWords</th>\n",
       "      <th>TfIdf</th>\n",
       "      <th>SVD</th>\n",
       "    </tr>\n",
       "  </thead>\n",
       "  <tbody>\n",
       "    <tr>\n",
       "      <th>0</th>\n",
       "      <td>RandomForest</td>\n",
       "      <td>0.869620</td>\n",
       "      <td>0.874937</td>\n",
       "      <td>0.876962</td>\n",
       "    </tr>\n",
       "    <tr>\n",
       "      <th>1</th>\n",
       "      <td>LogisticRegression</td>\n",
       "      <td>0.922278</td>\n",
       "      <td>0.928608</td>\n",
       "      <td>0.926582</td>\n",
       "    </tr>\n",
       "    <tr>\n",
       "      <th>2</th>\n",
       "      <td>MultinominalNaiveBayes</td>\n",
       "      <td>0.926835</td>\n",
       "      <td>0.910886</td>\n",
       "      <td>0.895949</td>\n",
       "    </tr>\n",
       "    <tr>\n",
       "      <th>3</th>\n",
       "      <td>CatBoostClassifier</td>\n",
       "      <td>0.920253</td>\n",
       "      <td>0.912152</td>\n",
       "      <td>0.921013</td>\n",
       "    </tr>\n",
       "  </tbody>\n",
       "</table>\n",
       "</div>"
      ],
      "text/plain": [
       "                    index  BagOfWords     TfIdf       SVD\n",
       "0            RandomForest    0.869620  0.874937  0.876962\n",
       "1      LogisticRegression    0.922278  0.928608  0.926582\n",
       "2  MultinominalNaiveBayes    0.926835  0.910886  0.895949\n",
       "3      CatBoostClassifier    0.920253  0.912152  0.921013"
      ]
     },
     "execution_count": 35,
     "metadata": {},
     "output_type": "execute_result"
    }
   ],
   "source": [
    "results"
   ]
  },
  {
   "cell_type": "markdown",
   "id": "0b041fcc-99c3-4d79-946b-e52afc7b8fde",
   "metadata": {},
   "source": [
    "Заметим, что лучше всего справилась модель логистической регрессии на векторизации tf-idf"
   ]
  },
  {
   "cell_type": "code",
   "execution_count": 36,
   "id": "8a6e4cab-0f1c-4690-acad-ec79e8e69d5c",
   "metadata": {},
   "outputs": [
    {
     "data": {
      "text/html": [
       "<style>#sk-container-id-1 {color: black;background-color: white;}#sk-container-id-1 pre{padding: 0;}#sk-container-id-1 div.sk-toggleable {background-color: white;}#sk-container-id-1 label.sk-toggleable__label {cursor: pointer;display: block;width: 100%;margin-bottom: 0;padding: 0.3em;box-sizing: border-box;text-align: center;}#sk-container-id-1 label.sk-toggleable__label-arrow:before {content: \"▸\";float: left;margin-right: 0.25em;color: #696969;}#sk-container-id-1 label.sk-toggleable__label-arrow:hover:before {color: black;}#sk-container-id-1 div.sk-estimator:hover label.sk-toggleable__label-arrow:before {color: black;}#sk-container-id-1 div.sk-toggleable__content {max-height: 0;max-width: 0;overflow: hidden;text-align: left;background-color: #f0f8ff;}#sk-container-id-1 div.sk-toggleable__content pre {margin: 0.2em;color: black;border-radius: 0.25em;background-color: #f0f8ff;}#sk-container-id-1 input.sk-toggleable__control:checked~div.sk-toggleable__content {max-height: 200px;max-width: 100%;overflow: auto;}#sk-container-id-1 input.sk-toggleable__control:checked~label.sk-toggleable__label-arrow:before {content: \"▾\";}#sk-container-id-1 div.sk-estimator input.sk-toggleable__control:checked~label.sk-toggleable__label {background-color: #d4ebff;}#sk-container-id-1 div.sk-label input.sk-toggleable__control:checked~label.sk-toggleable__label {background-color: #d4ebff;}#sk-container-id-1 input.sk-hidden--visually {border: 0;clip: rect(1px 1px 1px 1px);clip: rect(1px, 1px, 1px, 1px);height: 1px;margin: -1px;overflow: hidden;padding: 0;position: absolute;width: 1px;}#sk-container-id-1 div.sk-estimator {font-family: monospace;background-color: #f0f8ff;border: 1px dotted black;border-radius: 0.25em;box-sizing: border-box;margin-bottom: 0.5em;}#sk-container-id-1 div.sk-estimator:hover {background-color: #d4ebff;}#sk-container-id-1 div.sk-parallel-item::after {content: \"\";width: 100%;border-bottom: 1px solid gray;flex-grow: 1;}#sk-container-id-1 div.sk-label:hover label.sk-toggleable__label {background-color: #d4ebff;}#sk-container-id-1 div.sk-serial::before {content: \"\";position: absolute;border-left: 1px solid gray;box-sizing: border-box;top: 0;bottom: 0;left: 50%;z-index: 0;}#sk-container-id-1 div.sk-serial {display: flex;flex-direction: column;align-items: center;background-color: white;padding-right: 0.2em;padding-left: 0.2em;position: relative;}#sk-container-id-1 div.sk-item {position: relative;z-index: 1;}#sk-container-id-1 div.sk-parallel {display: flex;align-items: stretch;justify-content: center;background-color: white;position: relative;}#sk-container-id-1 div.sk-item::before, #sk-container-id-1 div.sk-parallel-item::before {content: \"\";position: absolute;border-left: 1px solid gray;box-sizing: border-box;top: 0;bottom: 0;left: 50%;z-index: -1;}#sk-container-id-1 div.sk-parallel-item {display: flex;flex-direction: column;z-index: 1;position: relative;background-color: white;}#sk-container-id-1 div.sk-parallel-item:first-child::after {align-self: flex-end;width: 50%;}#sk-container-id-1 div.sk-parallel-item:last-child::after {align-self: flex-start;width: 50%;}#sk-container-id-1 div.sk-parallel-item:only-child::after {width: 0;}#sk-container-id-1 div.sk-dashed-wrapped {border: 1px dashed gray;margin: 0 0.4em 0.5em 0.4em;box-sizing: border-box;padding-bottom: 0.4em;background-color: white;}#sk-container-id-1 div.sk-label label {font-family: monospace;font-weight: bold;display: inline-block;line-height: 1.2em;}#sk-container-id-1 div.sk-label-container {text-align: center;}#sk-container-id-1 div.sk-container {/* jupyter's `normalize.less` sets `[hidden] { display: none; }` but bootstrap.min.css set `[hidden] { display: none !important; }` so we also need the `!important` here to be able to override the default hidden behavior on the sphinx rendered scikit-learn.org. See: https://github.com/scikit-learn/scikit-learn/issues/21755 */display: inline-block !important;position: relative;}#sk-container-id-1 div.sk-text-repr-fallback {display: none;}</style><div id=\"sk-container-id-1\" class=\"sk-top-container\"><div class=\"sk-text-repr-fallback\"><pre>LogisticRegression(max_iter=10000)</pre><b>In a Jupyter environment, please rerun this cell to show the HTML representation or trust the notebook. <br />On GitHub, the HTML representation is unable to render, please try loading this page with nbviewer.org.</b></div><div class=\"sk-container\" hidden><div class=\"sk-item\"><div class=\"sk-estimator sk-toggleable\"><input class=\"sk-toggleable__control sk-hidden--visually\" id=\"sk-estimator-id-1\" type=\"checkbox\" checked><label for=\"sk-estimator-id-1\" class=\"sk-toggleable__label sk-toggleable__label-arrow\">LogisticRegression</label><div class=\"sk-toggleable__content\"><pre>LogisticRegression(max_iter=10000)</pre></div></div></div></div></div>"
      ],
      "text/plain": [
       "LogisticRegression(max_iter=10000)"
      ]
     },
     "execution_count": 36,
     "metadata": {},
     "output_type": "execute_result"
    }
   ],
   "source": [
    "lr = LogisticRegression(max_iter=10000)\n",
    "\n",
    "tfid = TfidfVectorizer(ngram_range=(1, 1))\n",
    "tfid_representation = tfid.fit_transform(df['text'])\n",
    "\n",
    "lr.fit(tfid_representation, df['sentiment'])"
   ]
  },
  {
   "cell_type": "markdown",
   "id": "dc14f12a-ed31-4f76-a7c0-736675319588",
   "metadata": {},
   "source": [
    "#### Загрузим тестовые данные"
   ]
  },
  {
   "cell_type": "code",
   "execution_count": 37,
   "id": "efb26a01-17a2-4b25-b70a-c25ef1e800e3",
   "metadata": {},
   "outputs": [
    {
     "data": {
      "text/plain": [
       "(1000, 2)"
      ]
     },
     "execution_count": 37,
     "metadata": {},
     "output_type": "execute_result"
    }
   ],
   "source": [
    "path = 'test_tin.csv'\n",
    "df_test = pd.read_csv(path, encoding='cp1251')\n",
    "df_test.shape"
   ]
  },
  {
   "cell_type": "code",
   "execution_count": 38,
   "id": "2ecb6427-d7c4-4262-8ebf-4573d1575cc4",
   "metadata": {},
   "outputs": [
    {
     "data": {
      "text/html": [
       "<div>\n",
       "<style scoped>\n",
       "    .dataframe tbody tr th:only-of-type {\n",
       "        vertical-align: middle;\n",
       "    }\n",
       "\n",
       "    .dataframe tbody tr th {\n",
       "        vertical-align: top;\n",
       "    }\n",
       "\n",
       "    .dataframe thead th {\n",
       "        text-align: right;\n",
       "    }\n",
       "</style>\n",
       "<table border=\"1\" class=\"dataframe\">\n",
       "  <thead>\n",
       "    <tr style=\"text-align: right;\">\n",
       "      <th></th>\n",
       "      <th>text</th>\n",
       "      <th>isPositive</th>\n",
       "    </tr>\n",
       "  </thead>\n",
       "  <tbody>\n",
       "    <tr>\n",
       "      <th>0</th>\n",
       "      <td>Добрый день! Я являюсь клиентом Тинькофф банк ...</td>\n",
       "      <td>NaN</td>\n",
       "    </tr>\n",
       "    <tr>\n",
       "      <th>1</th>\n",
       "      <td>Хочу выразить огромную благодарность банку Тин...</td>\n",
       "      <td>NaN</td>\n",
       "    </tr>\n",
       "    <tr>\n",
       "      <th>2</th>\n",
       "      <td>Выражаю благодарность К-ву Александру В. за ст...</td>\n",
       "      <td>NaN</td>\n",
       "    </tr>\n",
       "    <tr>\n",
       "      <th>3</th>\n",
       "      <td>В январе 2019 года оформила потребительский кр...</td>\n",
       "      <td>NaN</td>\n",
       "    </tr>\n",
       "    <tr>\n",
       "      <th>4</th>\n",
       "      <td>Добрый день. Хочу поблагодарить банк Тинькофф ...</td>\n",
       "      <td>NaN</td>\n",
       "    </tr>\n",
       "  </tbody>\n",
       "</table>\n",
       "</div>"
      ],
      "text/plain": [
       "                                                text  isPositive\n",
       "0  Добрый день! Я являюсь клиентом Тинькофф банк ...         NaN\n",
       "1  Хочу выразить огромную благодарность банку Тин...         NaN\n",
       "2  Выражаю благодарность К-ву Александру В. за ст...         NaN\n",
       "3  В январе 2019 года оформила потребительский кр...         NaN\n",
       "4  Добрый день. Хочу поблагодарить банк Тинькофф ...         NaN"
      ]
     },
     "execution_count": 38,
     "metadata": {},
     "output_type": "execute_result"
    }
   ],
   "source": [
    "df_test.head()"
   ]
  },
  {
   "cell_type": "code",
   "execution_count": 39,
   "id": "a86b3b6d-1df4-4ae1-bdc0-15707d4c5043",
   "metadata": {},
   "outputs": [],
   "source": [
    "text_test = df_test.iloc[:, 0]"
   ]
  },
  {
   "cell_type": "code",
   "execution_count": 40,
   "id": "4a6ff360-6695-4496-8ae3-c9953ef65b85",
   "metadata": {},
   "outputs": [],
   "source": [
    "# Начинаем делать предварительную обработку текста\n",
    "\n",
    "text_test = text_test.apply(clean)"
   ]
  },
  {
   "cell_type": "code",
   "execution_count": 41,
   "id": "8953a899-fd58-4c60-8eb0-6e36db1af652",
   "metadata": {},
   "outputs": [],
   "source": [
    "# Применяем лемматизацию ко всем отзывам\n",
    "pymorph = pymorphy2.MorphAnalyzer()\n",
    "\n",
    "lemmatized_text = []\n",
    "for review in text_test:\n",
    "    lemmatized_text.append(' '.join([pymorph.parse(word)[0].normal_form for word in review.split()]))"
   ]
  },
  {
   "cell_type": "code",
   "execution_count": 42,
   "id": "608c3250-f16c-4d3e-b602-ff60a78b918a",
   "metadata": {},
   "outputs": [
    {
     "name": "stderr",
     "output_type": "stream",
     "text": [
      "100%|█████████████████████████████████████| 1000/1000 [00:00<00:00, 4740.43it/s]\n"
     ]
    }
   ],
   "source": [
    "# Применяем токенизацию\n",
    "\n",
    "reg_tokenizer = RegexpTokenizer('\\w+')\n",
    "tokenized_text = reg_tokenizer.tokenize_sents(lemmatized_text)\n",
    "\n",
    "# удаляем стоп-слова\n",
    "\n",
    "clean_tokenized_text = [] \n",
    "\n",
    "for i, review in tqdm(enumerate(tokenized_text), total=len(tokenized_text)):\n",
    "    clean_tokenized_text.append(' '.join([word for word in review if word not in sw]))"
   ]
  },
  {
   "cell_type": "code",
   "execution_count": 43,
   "id": "8090d11b-d27f-4f7f-8940-e2d768fb9706",
   "metadata": {},
   "outputs": [],
   "source": [
    "tfidf_representation_test = tfid.transform(clean_tokenized_text)\n",
    "\n",
    "prediction = lr.predict(tfidf_representation_test)"
   ]
  },
  {
   "cell_type": "code",
   "execution_count": 44,
   "id": "83bcefdf-c5a6-4786-9985-f043b3fbb5ae",
   "metadata": {},
   "outputs": [],
   "source": [
    "df_test.iloc[:, 1] = prediction"
   ]
  },
  {
   "cell_type": "code",
   "execution_count": 45,
   "id": "5a573fa9-783e-4a76-b391-5a2c71985a0d",
   "metadata": {},
   "outputs": [
    {
     "data": {
      "text/html": [
       "<div>\n",
       "<style scoped>\n",
       "    .dataframe tbody tr th:only-of-type {\n",
       "        vertical-align: middle;\n",
       "    }\n",
       "\n",
       "    .dataframe tbody tr th {\n",
       "        vertical-align: top;\n",
       "    }\n",
       "\n",
       "    .dataframe thead th {\n",
       "        text-align: right;\n",
       "    }\n",
       "</style>\n",
       "<table border=\"1\" class=\"dataframe\">\n",
       "  <thead>\n",
       "    <tr style=\"text-align: right;\">\n",
       "      <th></th>\n",
       "      <th>text</th>\n",
       "      <th>isPositive</th>\n",
       "    </tr>\n",
       "  </thead>\n",
       "  <tbody>\n",
       "    <tr>\n",
       "      <th>0</th>\n",
       "      <td>Добрый день! Я являюсь клиентом Тинькофф банк ...</td>\n",
       "      <td>0</td>\n",
       "    </tr>\n",
       "    <tr>\n",
       "      <th>1</th>\n",
       "      <td>Хочу выразить огромную благодарность банку Тин...</td>\n",
       "      <td>1</td>\n",
       "    </tr>\n",
       "    <tr>\n",
       "      <th>2</th>\n",
       "      <td>Выражаю благодарность К-ву Александру В. за ст...</td>\n",
       "      <td>1</td>\n",
       "    </tr>\n",
       "    <tr>\n",
       "      <th>3</th>\n",
       "      <td>В январе 2019 года оформила потребительский кр...</td>\n",
       "      <td>0</td>\n",
       "    </tr>\n",
       "    <tr>\n",
       "      <th>4</th>\n",
       "      <td>Добрый день. Хочу поблагодарить банк Тинькофф ...</td>\n",
       "      <td>1</td>\n",
       "    </tr>\n",
       "  </tbody>\n",
       "</table>\n",
       "</div>"
      ],
      "text/plain": [
       "                                                text  isPositive\n",
       "0  Добрый день! Я являюсь клиентом Тинькофф банк ...           0\n",
       "1  Хочу выразить огромную благодарность банку Тин...           1\n",
       "2  Выражаю благодарность К-ву Александру В. за ст...           1\n",
       "3  В январе 2019 года оформила потребительский кр...           0\n",
       "4  Добрый день. Хочу поблагодарить банк Тинькофф ...           1"
      ]
     },
     "execution_count": 45,
     "metadata": {},
     "output_type": "execute_result"
    }
   ],
   "source": [
    "df_test.head()"
   ]
  },
  {
   "cell_type": "code",
   "execution_count": null,
   "id": "16fd45c3-ba7c-4b32-8b66-243a94306b59",
   "metadata": {},
   "outputs": [],
   "source": []
  }
 ],
 "metadata": {
  "kernelspec": {
   "display_name": "Python 3 (ipykernel)",
   "language": "python",
   "name": "python3"
  },
  "language_info": {
   "codemirror_mode": {
    "name": "ipython",
    "version": 3
   },
   "file_extension": ".py",
   "mimetype": "text/x-python",
   "name": "python",
   "nbconvert_exporter": "python",
   "pygments_lexer": "ipython3",
   "version": "3.9.13"
  }
 },
 "nbformat": 4,
 "nbformat_minor": 5
}
